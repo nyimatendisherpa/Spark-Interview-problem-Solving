{
  "nbformat": 4,
  "nbformat_minor": 0,
  "metadata": {
    "colab": {
      "provenance": []
    },
    "kernelspec": {
      "name": "python3",
      "display_name": "Python 3"
    },
    "language_info": {
      "name": "python"
    }
  },
  "cells": [
    {
      "cell_type": "markdown",
      "source": [
        "log file containing user activities on websites . data includes user_id,event_type,event_timestamp and our task is to find the time difference in seconds between consecuative events for each user and filter only those users who have at least one event with a time gap of less than 10 seconds.\n"
      ],
      "metadata": {
        "id": "t6nl-nH2Oc_E"
      }
    },
    {
      "cell_type": "code",
      "source": [
        "from pyspark.sql import SparkSession\n",
        "from pyspark.sql.functions import col,unix_timestamp,lag\n",
        "from pyspark.sql.window import Window\n"
      ],
      "metadata": {
        "id": "EzOI5mrQWxLU"
      },
      "execution_count": 6,
      "outputs": []
    },
    {
      "cell_type": "code",
      "source": [
        "spark=SparkSession.builder.appName(\"TimeGap\").getOrCreate()"
      ],
      "metadata": {
        "id": "B4PROjxpPKec"
      },
      "execution_count": 7,
      "outputs": []
    },
    {
      "cell_type": "code",
      "source": [
        "data=[\n",
        "    (\"abc1\", \"login\", \"2024-03-18 10:00:00\"),\n",
        " (\"abc1\", \"click\", \"2024-03-18 10:00:05\"),\n",
        " (\"abc1\", \"purchase\", \"2024-03-18 10:10:00\"),\n",
        " (\"abc2\", \"login\", \"2024-03-18 10:15:00\"),\n",
        " (\"abc2\", \"click\", \"2024-03-18 10:15:30\"),\n",
        " (\"abc3\", \"login\", \"2024-03-18 10:20:00\"),\n",
        " (\"abc3\", \"click\", \"2024-03-18 10:20:08\"),\n",
        "]"
      ],
      "metadata": {
        "id": "7heGNSN0PWbE"
      },
      "execution_count": 8,
      "outputs": []
    },
    {
      "cell_type": "code",
      "source": [
        "df=spark.createDataFrame(data,[\"user_id\",\"event_type\",\"event_timestamp\"])\n",
        "df"
      ],
      "metadata": {
        "id": "xn9jofrNPmsr"
      },
      "execution_count": 13,
      "outputs": []
    },
    {
      "cell_type": "markdown",
      "source": [
        "convert timestamp to seconds and calculate time difference"
      ],
      "metadata": {
        "id": "P1VXsgUAQWYs"
      }
    },
    {
      "cell_type": "code",
      "source": [
        "window_spec=Window.partitionBy(\"user_id\").orderBy(\"event_timestamp\")\n",
        "window_spec"
      ],
      "metadata": {
        "colab": {
          "base_uri": "https://localhost:8080/"
        },
        "id": "7yCp2YKrQB3Q",
        "outputId": "8a937cd1-67f6-46e0-af23-b4c87b19da1e"
      },
      "execution_count": 14,
      "outputs": [
        {
          "output_type": "execute_result",
          "data": {
            "text/plain": [
              "<pyspark.sql.window.WindowSpec at 0x7fdce3803f50>"
            ]
          },
          "metadata": {},
          "execution_count": 14
        }
      ]
    },
    {
      "cell_type": "code",
      "source": [
        "df=df.withColumn(\"event_timestamp\",unix_timestamp(col(\"event_timestamp\")))"
      ],
      "metadata": {
        "id": "XaFtNkJqQuCc"
      },
      "execution_count": 17,
      "outputs": []
    },
    {
      "cell_type": "code",
      "source": [
        "df=df.withColumn(\"prev_timestamp\",lag(\"event_timestamp\").over(window_spec))"
      ],
      "metadata": {
        "id": "cb_ctPUiRLFI"
      },
      "execution_count": 18,
      "outputs": []
    },
    {
      "cell_type": "code",
      "source": [
        "df=df.withColumn(\"time_gap\",col(\"event_timestamp\")-col(\"prev_timestamp\"))"
      ],
      "metadata": {
        "id": "hG_epwMuRi5b"
      },
      "execution_count": 19,
      "outputs": []
    },
    {
      "cell_type": "markdown",
      "source": [
        "filter users with time gap of less than 10 seconds"
      ],
      "metadata": {
        "id": "ydREhOopR0lj"
      }
    },
    {
      "cell_type": "code",
      "source": [
        "result_df=df.groupBy(\"user_id\").agg({\"time_gap\":\"min\"}).withColumnRenamed(\"min(time_gap)\",\"min_time_gap_seconds\")"
      ],
      "metadata": {
        "id": "A19hVEnLRyen"
      },
      "execution_count": 20,
      "outputs": []
    },
    {
      "cell_type": "code",
      "source": [
        "result_df=result_df.filter(col(\"min_time_gap_seconds\")<10)"
      ],
      "metadata": {
        "id": "DEDGJB7KSxLE"
      },
      "execution_count": 21,
      "outputs": []
    },
    {
      "cell_type": "code",
      "source": [
        "result_df.show()"
      ],
      "metadata": {
        "colab": {
          "base_uri": "https://localhost:8080/"
        },
        "id": "Bz6cnorQS6X4",
        "outputId": "ec9d8d32-c3cd-428b-d0fd-f2c444b6a7ab"
      },
      "execution_count": 22,
      "outputs": [
        {
          "output_type": "stream",
          "name": "stdout",
          "text": [
            "+-------+--------------------+\n",
            "|user_id|min_time_gap_seconds|\n",
            "+-------+--------------------+\n",
            "|   abc1|                   5|\n",
            "|   abc3|                   8|\n",
            "+-------+--------------------+\n",
            "\n"
          ]
        }
      ]
    },
    {
      "cell_type": "code",
      "source": [],
      "metadata": {
        "id": "Mjp9CeR6WE7Y"
      },
      "execution_count": null,
      "outputs": []
    }
  ]
}