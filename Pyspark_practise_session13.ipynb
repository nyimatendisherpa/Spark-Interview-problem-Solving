{
  "nbformat": 4,
  "nbformat_minor": 0,
  "metadata": {
    "colab": {
      "provenance": []
    },
    "kernelspec": {
      "name": "python3",
      "display_name": "Python 3"
    },
    "language_info": {
      "name": "python"
    }
  },
  "cells": [
    {
      "cell_type": "markdown",
      "source": [
        "We have apyspark DataFrame that logs activity .So, our task is to identify users who logged in from 3 different cities within 1 hour-a potential sign of account compromise."
      ],
      "metadata": {
        "id": "4CetTPpxc48Y"
      }
    },
    {
      "cell_type": "code",
      "source": [
        "from pyspark.sql import SparkSession\n",
        "from pyspark.sql.functions import col,unix_timestamp,countDistinct,window\n",
        "from pyspark.sql.types import StructType, StructField, StringType,TimestampType"
      ],
      "metadata": {
        "id": "kQH9RNmcb51i"
      },
      "execution_count": 5,
      "outputs": []
    },
    {
      "cell_type": "code",
      "source": [
        "spark=SparkSession.builder.appName(\"loginPatternIdentify\").getOrCreate()\n",
        "spark"
      ],
      "metadata": {
        "id": "p19LZgpuveZT"
      },
      "execution_count": 6,
      "outputs": []
    },
    {
      "cell_type": "code",
      "source": [
        "data=[(\n",
        "  \"abc1\", \"2025-06-01 08:00:00\", \"Kathmandu\"),\n",
        " (\"abc1\", \"2025-06-01 8:30:00\", \"Pokhara\"),\n",
        " (\"abc1\", \"2025-06-01 8:50:00\", \"Solukhumbu\"),\n",
        " (\"abc2\", \"2025-06-01 9:00:00\", \"Chitwan\"),\n",
        " (\"abc2\", \"2025-06-01 11:30:00\", \"Dharan\"),\n",
        " (\"abc3\", \"2025-06-02 07:00:00\", \"Gorkha\"),\n",
        " (\"abc3\", \"2025-06-01 07:15:00\", \"Gorkha\")\n",
        "\n",
        "]"
      ],
      "metadata": {
        "id": "_AqFWQaf74H6"
      },
      "execution_count": 66,
      "outputs": []
    },
    {
      "cell_type": "code",
      "source": [
        "data"
      ],
      "metadata": {
        "colab": {
          "base_uri": "https://localhost:8080/"
        },
        "id": "WHkoOMAw8cVX",
        "outputId": "06ca7233-5365-4768-f69e-183c8ef80177"
      },
      "execution_count": 67,
      "outputs": [
        {
          "output_type": "execute_result",
          "data": {
            "text/plain": [
              "[('abc1', '2025-06-01 08:00:00', 'Kathmandu'),\n",
              " ('abc1', '2025-06-01 8:30:00', 'Pokhara'),\n",
              " ('abc1', '2025-06-01 8:50:00', 'Solukhumbu'),\n",
              " ('abc2', '2025-06-01 9:00:00', 'Chitwan'),\n",
              " ('abc2', '2025-06-01 11:30:00', 'Dharan'),\n",
              " ('abc3', '2025-06-02 07:00:00', 'Gorkha'),\n",
              " ('abc3', '2025-06-01 07:15:00', 'Gorkha')]"
            ]
          },
          "metadata": {},
          "execution_count": 67
        }
      ]
    },
    {
      "cell_type": "code",
      "source": [
        "schema=StructType([\n",
        "    StructField(\"user_id\",StringType()),\n",
        "    StructField(\"login_time\",StringType()),\n",
        "    StructField(\"City\",StringType())\n",
        "])"
      ],
      "metadata": {
        "id": "7aQKi6VX8el3"
      },
      "execution_count": 68,
      "outputs": []
    },
    {
      "cell_type": "code",
      "source": [
        "df=spark.createDataFrame(data,schema)"
      ],
      "metadata": {
        "id": "TMwTbkNt9D-E"
      },
      "execution_count": 69,
      "outputs": []
    },
    {
      "cell_type": "code",
      "source": [
        "df.withColumn(\"login_time\",col(\"login_time\").cast(TimestampType()))"
      ],
      "metadata": {
        "colab": {
          "base_uri": "https://localhost:8080/"
        },
        "id": "dogegopg9MXf",
        "outputId": "8871a98d-6696-41f9-ce0b-8562e06e1eaa"
      },
      "execution_count": 70,
      "outputs": [
        {
          "output_type": "execute_result",
          "data": {
            "text/plain": [
              "DataFrame[user_id: string, login_time: timestamp, City: string]"
            ]
          },
          "metadata": {},
          "execution_count": 70
        }
      ]
    },
    {
      "cell_type": "markdown",
      "source": [
        "use 1-hour sliding window to check for 3 distinct cities per user"
      ],
      "metadata": {
        "id": "IYbp4BMm-eFl"
      }
    },
    {
      "cell_type": "code",
      "source": [
        "windowed=df.groupBy(\"user_id\",window(\"login_time\",\"1 hour\")).agg(countDistinct(\"city\").alias(\"unique_cities\"))"
      ],
      "metadata": {
        "id": "_b6djffZ-Dn2"
      },
      "execution_count": 71,
      "outputs": []
    },
    {
      "cell_type": "code",
      "source": [
        "suspicious_users=windowed.filter(col(\"unique_cities\")>=3).select(\"user_id\").distinct()"
      ],
      "metadata": {
        "id": "icAO62jNAT1S"
      },
      "execution_count": 72,
      "outputs": []
    },
    {
      "cell_type": "code",
      "source": [
        "suspicious_users.show()"
      ],
      "metadata": {
        "colab": {
          "base_uri": "https://localhost:8080/"
        },
        "id": "sr54LDOvAy--",
        "outputId": "552fd1d6-d11f-4eed-bca2-9a0c99f83216"
      },
      "execution_count": 73,
      "outputs": [
        {
          "output_type": "stream",
          "name": "stdout",
          "text": [
            "+-------+\n",
            "|user_id|\n",
            "+-------+\n",
            "|   abc1|\n",
            "+-------+\n",
            "\n"
          ]
        }
      ]
    },
    {
      "cell_type": "code",
      "source": [],
      "metadata": {
        "id": "JKcuvYopA2xP"
      },
      "execution_count": 73,
      "outputs": []
    }
  ]
}