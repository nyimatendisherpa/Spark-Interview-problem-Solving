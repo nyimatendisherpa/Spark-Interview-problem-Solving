{
  "nbformat": 4,
  "nbformat_minor": 0,
  "metadata": {
    "colab": {
      "provenance": []
    },
    "kernelspec": {
      "name": "python3",
      "display_name": "Python 3"
    },
    "language_info": {
      "name": "python"
    }
  },
  "cells": [
    {
      "cell_type": "markdown",
      "source": [
        "\n",
        "We are analyzing user behaviour  on e-learning platform .Our task is to identify users who started a quiz but didn't submit with in 30 minutes- possible dropouts.\n",
        "\n"
      ],
      "metadata": {
        "id": "THTzAg1J_uwx"
      }
    },
    {
      "cell_type": "code",
      "source": [
        "from pyspark.sql import SparkSession\n",
        "from pyspark.sql.functions import col,lead,unix_timestamp\n",
        "from pyspark.sql.window import Window"
      ],
      "metadata": {
        "id": "oSezsbY7BAb4"
      },
      "execution_count": 76,
      "outputs": []
    },
    {
      "cell_type": "code",
      "source": [
        "spark=SparkSession.builder.appName(\"quiztest\").getOrCreate()"
      ],
      "metadata": {
        "id": "v4rvcDqiBgKA"
      },
      "execution_count": 77,
      "outputs": []
    },
    {
      "cell_type": "code",
      "source": [
        "data=[\n",
        " (\"DEF1\", \"quiz_start\", \"2024-03-28 10:00:00\"),\n",
        " (\"DEF1\", \"quiz_submit\", \"2024-03-28 10:05:00\"),\n",
        " (\"DEF2\", \"quiz_start\", \"2024-03-28 11:00:00\"),\n",
        " (\"DEF2\", \"logout\", \"2024-03-28 11:20:00\"),\n",
        " (\"DEF3\", \"quiz_start\", \"2024-03-28 12:00:00\"),\n",
        " (\"DEF3\", \"quiz_submit\", \"2024-03-28 12:45:00\"),\n",
        " (\"DEF4\", \"quiz_start\", \"2024-03-28 13:00:00\")\n",
        "]"
      ],
      "metadata": {
        "id": "P6P8G8TfBtwH"
      },
      "execution_count": 78,
      "outputs": []
    },
    {
      "cell_type": "code",
      "source": [
        "columns=[\"user_id\",\"event_type\",\"event_time\"]"
      ],
      "metadata": {
        "id": "1MsBFrodCNqr"
      },
      "execution_count": 79,
      "outputs": []
    },
    {
      "cell_type": "code",
      "source": [
        "df=spark.createDataFrame(data,columns)\n",
        "df.show()"
      ],
      "metadata": {
        "colab": {
          "base_uri": "https://localhost:8080/"
        },
        "id": "jMerRSPSCDfI",
        "outputId": "bca8a8ad-841a-4d7a-fa91-b3c954162e38"
      },
      "execution_count": 80,
      "outputs": [
        {
          "output_type": "stream",
          "name": "stdout",
          "text": [
            "+-------+-----------+-------------------+\n",
            "|user_id| event_type|         event_time|\n",
            "+-------+-----------+-------------------+\n",
            "|   DEF1| quiz_start|2024-03-28 10:00:00|\n",
            "|   DEF1|quiz_submit|2024-03-28 10:05:00|\n",
            "|   DEF2| quiz_start|2024-03-28 11:00:00|\n",
            "|   DEF2|     logout|2024-03-28 11:20:00|\n",
            "|   DEF3| quiz_start|2024-03-28 12:00:00|\n",
            "|   DEF3|quiz_submit|2024-03-28 12:45:00|\n",
            "|   DEF4| quiz_start|2024-03-28 13:00:00|\n",
            "+-------+-----------+-------------------+\n",
            "\n"
          ]
        }
      ]
    },
    {
      "cell_type": "code",
      "source": [
        "df_res=df.withColumn(\"event_time\",col(\"event_time\").cast(\"timestamp\"))\n",
        "df_res.show()"
      ],
      "metadata": {
        "colab": {
          "base_uri": "https://localhost:8080/"
        },
        "id": "fmp3z8uaCxDe",
        "outputId": "0b20f528-eb9a-467b-9965-04935330ef53"
      },
      "execution_count": 81,
      "outputs": [
        {
          "output_type": "stream",
          "name": "stdout",
          "text": [
            "+-------+-----------+-------------------+\n",
            "|user_id| event_type|         event_time|\n",
            "+-------+-----------+-------------------+\n",
            "|   DEF1| quiz_start|2024-03-28 10:00:00|\n",
            "|   DEF1|quiz_submit|2024-03-28 10:05:00|\n",
            "|   DEF2| quiz_start|2024-03-28 11:00:00|\n",
            "|   DEF2|     logout|2024-03-28 11:20:00|\n",
            "|   DEF3| quiz_start|2024-03-28 12:00:00|\n",
            "|   DEF3|quiz_submit|2024-03-28 12:45:00|\n",
            "|   DEF4| quiz_start|2024-03-28 13:00:00|\n",
            "+-------+-----------+-------------------+\n",
            "\n"
          ]
        }
      ]
    },
    {
      "cell_type": "code",
      "source": [
        "filter_df=df_res.filter(col(\"event_type\").isin(\"quiz_start\",\"quiz_submit\"))"
      ],
      "metadata": {
        "id": "U5CTx5l9Foiu"
      },
      "execution_count": 82,
      "outputs": []
    },
    {
      "cell_type": "code",
      "source": [
        "window_spec=Window.partitionBy(\"user_id\").orderBy(\"event_time\")\n",
        "window_spec"
      ],
      "metadata": {
        "colab": {
          "base_uri": "https://localhost:8080/"
        },
        "id": "YGEBDnADF8mO",
        "outputId": "73b93b9e-05ca-4915-a8c8-7d36cf65b639"
      },
      "execution_count": 83,
      "outputs": [
        {
          "output_type": "execute_result",
          "data": {
            "text/plain": [
              "<pyspark.sql.window.WindowSpec at 0x7cc95bb70950>"
            ]
          },
          "metadata": {},
          "execution_count": 83
        }
      ]
    },
    {
      "cell_type": "code",
      "source": [
        "df_with_next=filter_df.withColumn(\"next_time\",lead(\"event_type\").over(window_spec)).withColumn(\"time_diff\",unix_timestamp(\"next_time\") - unix_timestamp(\"event_time\"))"
      ],
      "metadata": {
        "id": "ouJBpanzGPXE"
      },
      "execution_count": 84,
      "outputs": []
    },
    {
      "cell_type": "code",
      "source": [
        "result=df_with_next.filter(\n",
        "    (col(\"event_type\")==\"quiz_start\") &\n",
        "    ((col(\"next_time\")!=\"quiz_submit\")|(col(\"time_diff\")>1800)|col(\"next_time\").isNull())\n",
        ").select(col(\"user_id\"),col(\"event_time\").alias(\"quiz_start_time\"))"
      ],
      "metadata": {
        "id": "9fQucjVkGunt"
      },
      "execution_count": 85,
      "outputs": []
    },
    {
      "cell_type": "code",
      "source": [
        "result.show()"
      ],
      "metadata": {
        "colab": {
          "base_uri": "https://localhost:8080/"
        },
        "id": "t8C7IaKqHat7",
        "outputId": "e785f43a-dd85-4a6c-ce7c-6b38272e3fd0"
      },
      "execution_count": 86,
      "outputs": [
        {
          "output_type": "stream",
          "name": "stdout",
          "text": [
            "+-------+-------------------+\n",
            "|user_id|    quiz_start_time|\n",
            "+-------+-------------------+\n",
            "|   DEF2|2024-03-28 11:00:00|\n",
            "|   DEF4|2024-03-28 13:00:00|\n",
            "+-------+-------------------+\n",
            "\n"
          ]
        }
      ]
    },
    {
      "cell_type": "code",
      "source": [],
      "metadata": {
        "id": "0g52UAE6Jumb"
      },
      "execution_count": null,
      "outputs": []
    }
  ]
}