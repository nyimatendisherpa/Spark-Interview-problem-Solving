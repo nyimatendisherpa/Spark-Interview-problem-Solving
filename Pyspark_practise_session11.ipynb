{
  "nbformat": 4,
  "nbformat_minor": 0,
  "metadata": {
    "colab": {
      "provenance": []
    },
    "kernelspec": {
      "name": "python3",
      "display_name": "Python 3"
    },
    "language_info": {
      "name": "python"
    }
  },
  "cells": [
    {
      "cell_type": "markdown",
      "source": [
        "We are working with a semi structured JSON-style dataset in PySpark.where, each records contains user_id,user_name,purchases(an array of struct,each with:\n",
        "item_name,quantity,price)\n",
        "\n",
        "our task is to flattern the purchases array so that each item becomes a seperate row also to calculate the total_cost per item(quantity X price)."
      ],
      "metadata": {
        "id": "zJadY9CNXpO5"
      }
    },
    {
      "cell_type": "code",
      "source": [
        "from pyspark.sql import SparkSession\n",
        "from pyspark.sql.functions import explode,col,expr"
      ],
      "metadata": {
        "id": "dsJywo56YG4P"
      },
      "execution_count": 2,
      "outputs": []
    },
    {
      "cell_type": "code",
      "source": [
        "spark=SparkSession.builder.appName(\"FlatternStructArray\").getOrCreate()"
      ],
      "metadata": {
        "id": "ned6-mBGbBIF"
      },
      "execution_count": 3,
      "outputs": []
    },
    {
      "cell_type": "code",
      "source": [
        "data=([(\"ABC1\", \"Alice\", [\n",
        " {\"item_name\": \"Book\", \"quantity\": 2, \"price\": 300},\n",
        " {\"item_name\": \"Pen\", \"quantity\": 5, \"price\": 20}\n",
        " ]),\n",
        " (\"ABC2\", \"Bob\", [\n",
        " {\"item_name\": \"Notebook\", \"quantity\": 1, \"price\": 150}\n",
        " ])])"
      ],
      "metadata": {
        "id": "-pkBk3dHbPbN"
      },
      "execution_count": 14,
      "outputs": []
    },
    {
      "cell_type": "code",
      "source": [
        "data"
      ],
      "metadata": {
        "colab": {
          "base_uri": "https://localhost:8080/"
        },
        "id": "r0QDsQtWbvgV",
        "outputId": "79b31156-cea3-4c53-eb64-074a3cef5bfb"
      },
      "execution_count": 15,
      "outputs": [
        {
          "output_type": "execute_result",
          "data": {
            "text/plain": [
              "[('ABC1',\n",
              "  'Alice',\n",
              "  [{'item_name': 'Book', 'quantity': 2, 'price': 300},\n",
              "   {'item_name': 'Pen', 'quantity': 5, 'price': 20}]),\n",
              " ('ABC2', 'Bob', [{'item_name': 'Notebook', 'quantity': 1, 'price': 150}])]"
            ]
          },
          "metadata": {},
          "execution_count": 15
        }
      ]
    },
    {
      "cell_type": "code",
      "source": [
        "schema=\"user_id STRING,user_name STRING,purchases ARRAY<STRUCT<item_name:STRING,quantity:INT,price:INT>>\"\n",
        "schema"
      ],
      "metadata": {
        "colab": {
          "base_uri": "https://localhost:8080/",
          "height": 35
        },
        "id": "NMUODADUbgE8",
        "outputId": "b51b4e0a-f3f6-4fb7-c8a1-46eeb46b4e56"
      },
      "execution_count": 22,
      "outputs": [
        {
          "output_type": "execute_result",
          "data": {
            "text/plain": [
              "'user_id STRING,user_name STRING,purchases ARRAY<STRUCT<item_name:STRING,quantity:INT,price:INT>>'"
            ],
            "application/vnd.google.colaboratory.intrinsic+json": {
              "type": "string"
            }
          },
          "metadata": {},
          "execution_count": 22
        }
      ]
    },
    {
      "cell_type": "code",
      "source": [
        "df=spark.createDataFrame(data,schema=schema)\n",
        "df"
      ],
      "metadata": {
        "id": "tjTp5f84dW1_"
      },
      "execution_count": 23,
      "outputs": []
    },
    {
      "cell_type": "markdown",
      "source": [
        "Explore the array of structs"
      ],
      "metadata": {
        "id": "o3QP6hgVgj3E"
      }
    },
    {
      "cell_type": "code",
      "source": [
        "flat_df=df.withColumn(\"item\",explode(\"purchases\")).select(\"user_id\",\"user_name\",col(\"item.item_name\"),col(\"item.quantity\").alias(\"qty\"),col(\"item.price\"),(col(\"item.quantity\")*col(\"item.price\")).alias(\"total_cost\"))"
      ],
      "metadata": {
        "id": "_M-F2rsBgIoy"
      },
      "execution_count": 24,
      "outputs": []
    },
    {
      "cell_type": "code",
      "source": [
        "flat_df"
      ],
      "metadata": {
        "colab": {
          "base_uri": "https://localhost:8080/"
        },
        "id": "ygzLlKa9h_9E",
        "outputId": "b17f8f35-7cfa-427d-ca14-e78df2bb89e1"
      },
      "execution_count": 25,
      "outputs": [
        {
          "output_type": "execute_result",
          "data": {
            "text/plain": [
              "DataFrame[user_id: string, user_name: string, item_name: string, qty: int, price: int, total_cost: int]"
            ]
          },
          "metadata": {},
          "execution_count": 25
        }
      ]
    },
    {
      "cell_type": "code",
      "source": [
        "flat_df.show()"
      ],
      "metadata": {
        "colab": {
          "base_uri": "https://localhost:8080/"
        },
        "id": "cfOVZW_miDJ-",
        "outputId": "111c4fa6-9c47-47b1-e257-ca66c120fa51"
      },
      "execution_count": 26,
      "outputs": [
        {
          "output_type": "stream",
          "name": "stdout",
          "text": [
            "+-------+---------+---------+---+-----+----------+\n",
            "|user_id|user_name|item_name|qty|price|total_cost|\n",
            "+-------+---------+---------+---+-----+----------+\n",
            "|   ABC1|    Alice|     Book|  2|  300|       600|\n",
            "|   ABC1|    Alice|      Pen|  5|   20|       100|\n",
            "|   ABC2|      Bob| Notebook|  1|  150|       150|\n",
            "+-------+---------+---------+---+-----+----------+\n",
            "\n"
          ]
        }
      ]
    },
    {
      "cell_type": "code",
      "source": [],
      "metadata": {
        "id": "gn2xZ2gEiGyv"
      },
      "execution_count": null,
      "outputs": []
    }
  ]
}