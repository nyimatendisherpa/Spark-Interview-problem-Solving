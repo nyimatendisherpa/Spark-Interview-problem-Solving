{
  "nbformat": 4,
  "nbformat_minor": 0,
  "metadata": {
    "colab": {
      "provenance": []
    },
    "kernelspec": {
      "name": "python3",
      "display_name": "Python 3"
    },
    "language_info": {
      "name": "python"
    }
  },
  "cells": [
    {
      "cell_type": "markdown",
      "source": [
        "From given Pyspark DataFrame Containing user registration data. Due to human entry or OCR errors, names and emails might have minor typos.\n",
        "\n",
        "Our task is\n",
        "1.   To detect potential duplicates users based on similar name and email patterns.(e.g., nyima sherpa,nima sherpa,nyima@gmail.com VS nyima@gmail.com)\n",
        "2.   Flag pairs where levenshtein distance between name or email is below a certain threshold.\n",
        "\n"
      ],
      "metadata": {
        "id": "S0Xnv4tu9bQA"
      }
    },
    {
      "cell_type": "code",
      "source": [
        "from pyspark.sql import SparkSession\n",
        "from pyspark.sql.functions import col,levenshtein"
      ],
      "metadata": {
        "id": "M01Sf1rW-cBJ"
      },
      "execution_count": 6,
      "outputs": []
    },
    {
      "cell_type": "code",
      "source": [
        "spark=SparkSession.builder.appName(\"detect email duplicates\").getOrCreate()"
      ],
      "metadata": {
        "id": "7Q_ET8Hs_Pku"
      },
      "execution_count": 7,
      "outputs": []
    },
    {
      "cell_type": "code",
      "source": [
        "data=[\n",
        " (\"ABC1\", \"nyima sherpa\", \"nyima@gmail.com\"),\n",
        " (\"ABC2\", \"nima sherpa\", \"nyima@gmal.com\"),\n",
        " (\"ABC3\", \"john smith\", \"john@xyz.com\"),\n",
        " (\"ABC4\", \"jhon smith\", \"johne@xyz.com\"),\n",
        " (\"ABC5\", \"Pasang\", \"pasang.sherpa@abc.com\")\n",
        "]\n"
      ],
      "metadata": {
        "id": "K_3PyC2h_SAa"
      },
      "execution_count": 8,
      "outputs": []
    },
    {
      "cell_type": "code",
      "source": [
        "data"
      ],
      "metadata": {
        "colab": {
          "base_uri": "https://localhost:8080/"
        },
        "id": "gduhcebdAD3H",
        "outputId": "d9a075c7-c6b2-4321-f275-740fb3c7dc29"
      },
      "execution_count": 9,
      "outputs": [
        {
          "output_type": "execute_result",
          "data": {
            "text/plain": [
              "[('ABC1', 'nyima sherpa', 'nyima@gmail.com'),\n",
              " ('ABC2', 'nima sherpa', 'nyima@gmal.com'),\n",
              " ('ABC3', 'john smith', 'john@xyz.com'),\n",
              " ('ABC4', 'jhon smith', 'johne@xyz.com'),\n",
              " ('ABC5', 'Pasang', 'pasang.sherpa@abc.com')]"
            ]
          },
          "metadata": {},
          "execution_count": 9
        }
      ]
    },
    {
      "cell_type": "code",
      "source": [
        "df=spark.createDataFrame(data,[\"user_id\",\"full_name\",\"Email\"])\n",
        "df"
      ],
      "metadata": {
        "colab": {
          "base_uri": "https://localhost:8080/"
        },
        "id": "rhZsvH5XAEw-",
        "outputId": "82ad029e-d484-405b-f9aa-aa737d29669d"
      },
      "execution_count": 15,
      "outputs": [
        {
          "output_type": "execute_result",
          "data": {
            "text/plain": [
              "DataFrame[user_id: string, full_name: string, Email: string]"
            ]
          },
          "metadata": {},
          "execution_count": 15
        }
      ]
    },
    {
      "cell_type": "markdown",
      "source": [
        "Self join to compare each pair"
      ],
      "metadata": {
        "id": "hMOkU_S3Lcue"
      }
    },
    {
      "cell_type": "code",
      "source": [
        "df1=df.alias(\"a\")"
      ],
      "metadata": {
        "id": "_FTn0tdPLVmo"
      },
      "execution_count": 16,
      "outputs": []
    },
    {
      "cell_type": "code",
      "source": [
        "df2=df.alias(\"b\")\n",
        "df2"
      ],
      "metadata": {
        "colab": {
          "base_uri": "https://localhost:8080/"
        },
        "id": "u2ELnz18OV6d",
        "outputId": "469e2afe-1448-4788-e030-ba817417ea9a"
      },
      "execution_count": 17,
      "outputs": [
        {
          "output_type": "execute_result",
          "data": {
            "text/plain": [
              "DataFrame[user_id: string, full_name: string, Email: string]"
            ]
          },
          "metadata": {},
          "execution_count": 17
        }
      ]
    },
    {
      "cell_type": "markdown",
      "source": [
        "#Avoid duplicate comparisions and self join"
      ],
      "metadata": {
        "id": "wYKBqPAyOwbK"
      }
    },
    {
      "cell_type": "code",
      "source": [
        "joined=df1.join(df2,col(\"a.user_id\")<col(\"b.user_id\"))\n",
        "joined"
      ],
      "metadata": {
        "colab": {
          "base_uri": "https://localhost:8080/"
        },
        "id": "fbKgnGupOkcD",
        "outputId": "797bacd6-3e10-42e0-ece0-6b588a2e2071"
      },
      "execution_count": 18,
      "outputs": [
        {
          "output_type": "execute_result",
          "data": {
            "text/plain": [
              "DataFrame[user_id: string, full_name: string, Email: string, user_id: string, full_name: string, Email: string]"
            ]
          },
          "metadata": {},
          "execution_count": 18
        }
      ]
    },
    {
      "cell_type": "markdown",
      "source": [
        "Calculate Levensthein distances"
      ],
      "metadata": {
        "id": "C1i3HlPMPnyp"
      }
    },
    {
      "cell_type": "code",
      "source": [
        "result=joined.select(col(\"a.user_id\").alias(\"user_1\"),col(\"b.user_id\").alias(\"user_2\"),levenshtein(col(\"a.full_name\"),col(\"b.full_name\")).alias(\"distance_name\"),levenshtein(col(\"a.email\"),col(\"b.email\")).alias(\"email_distance\")).filter((col(\"distance_name\")<=2) | (col(\"email_distance\")<=2))"
      ],
      "metadata": {
        "id": "4mKbSKFaXjfS"
      },
      "execution_count": 27,
      "outputs": []
    },
    {
      "cell_type": "code",
      "source": [
        "result.show()"
      ],
      "metadata": {
        "colab": {
          "base_uri": "https://localhost:8080/"
        },
        "id": "bfao-VwdRQeN",
        "outputId": "72cb26dc-53cc-42d3-db68-7cec04cf2fa3"
      },
      "execution_count": 28,
      "outputs": [
        {
          "output_type": "stream",
          "name": "stdout",
          "text": [
            "+------+------+-------------+--------------+\n",
            "|user_1|user_2|distance_name|email_distance|\n",
            "+------+------+-------------+--------------+\n",
            "|  ABC1|  ABC2|            1|             1|\n",
            "|  ABC3|  ABC4|            2|             1|\n",
            "+------+------+-------------+--------------+\n",
            "\n"
          ]
        }
      ]
    },
    {
      "cell_type": "code",
      "source": [],
      "metadata": {
        "id": "brueLQn7RTKT"
      },
      "execution_count": 28,
      "outputs": []
    }
  ]
}