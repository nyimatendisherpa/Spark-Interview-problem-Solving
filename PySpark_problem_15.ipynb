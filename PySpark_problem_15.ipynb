{
  "nbformat": 4,
  "nbformat_minor": 0,
  "metadata": {
    "colab": {
      "provenance": []
    },
    "kernelspec": {
      "name": "python3",
      "display_name": "Python 3"
    },
    "language_info": {
      "name": "python"
    }
  },
  "cells": [
    {
      "cell_type": "markdown",
      "source": [
        "We have PySpark DataFrame which containing log message from various applications.Each log line includes: app_name,log_level(info,error,debug, etc.)\n",
        "log message(free text),timestamp.\n",
        "\n",
        "Our task is to count how many logs per application contain keywords like \"timeout\",\"failed\", or \"exception\"(case-insentive).\n",
        "Group By app and keyword"
      ],
      "metadata": {
        "id": "xFvHbGvhyndZ"
      }
    },
    {
      "cell_type": "code",
      "execution_count": 33,
      "metadata": {
        "id": "pOtezLF-yiQC"
      },
      "outputs": [],
      "source": [
        "from pyspark.sql import SparkSession\n",
        "from pyspark.sql.functions import col,lower,explode,array,lit,when,split\n",
        "from pyspark.sql.types import StructType,StructField,StringType,TimestampType"
      ]
    },
    {
      "cell_type": "code",
      "source": [
        "spark=SparkSession.builder.appName(\"log_message\").getOrCreate()"
      ],
      "metadata": {
        "id": "kkOtozL10saf"
      },
      "execution_count": 34,
      "outputs": []
    },
    {
      "cell_type": "code",
      "source": [
        "data=[\n",
        " (\"auth\", \"ERROR\", \"Login failed due to error\", \"2024-03-28 10:00:00\"),(\"payment\", \"INFO\", \"Payment timeout occurred\", \"2024-03-28 10:01:00\"),(\"auth\", \"INFO\", \"User logged in\", \"2024-03-28 10:02:00\"),(\"payment\", \"ERROR\", \"Unknown exception raised\", \"2024-03-28 10:03:00\"),\n",
        " (\"orders\", \"INFO\", \"Order placed successfully\", \"2024-03-28 10:04:00\")\n",
        " ]\n"
      ],
      "metadata": {
        "id": "hGhaXGv304lB"
      },
      "execution_count": 35,
      "outputs": []
    },
    {
      "cell_type": "code",
      "source": [
        "data"
      ],
      "metadata": {
        "colab": {
          "base_uri": "https://localhost:8080/"
        },
        "id": "CVwVwDS41L_O",
        "outputId": "f277a9f7-6fe9-4ac6-a558-d0ad1cb148c6"
      },
      "execution_count": 36,
      "outputs": [
        {
          "output_type": "execute_result",
          "data": {
            "text/plain": [
              "[('auth', 'ERROR', 'Login failed due to error', '2024-03-28 10:00:00'),\n",
              " ('payment', 'INFO', 'Payment timeout occurred', '2024-03-28 10:01:00'),\n",
              " ('auth', 'INFO', 'User logged in', '2024-03-28 10:02:00'),\n",
              " ('payment', 'ERROR', 'Unknown exception raised', '2024-03-28 10:03:00'),\n",
              " ('orders', 'INFO', 'Order placed successfully', '2024-03-28 10:04:00')]"
            ]
          },
          "metadata": {},
          "execution_count": 36
        }
      ]
    },
    {
      "cell_type": "code",
      "source": [
        "schema=StructType([\n",
        "    StructField(\"app_name\",StringType()),\n",
        "    StructField(\"level\",StringType()),\n",
        "    StructField(\"log_message\",StringType()),\n",
        "    StructField(\"Timestamp\",StringType())\n",
        "])\n",
        "schema"
      ],
      "metadata": {
        "colab": {
          "base_uri": "https://localhost:8080/"
        },
        "id": "DlnAywQI1Nsf",
        "outputId": "fffad13c-d28c-435f-9264-8ebcc0fe1ceb"
      },
      "execution_count": 37,
      "outputs": [
        {
          "output_type": "execute_result",
          "data": {
            "text/plain": [
              "StructType([StructField('app_name', StringType(), True), StructField('level', StringType(), True), StructField('log_message', StringType(), True), StructField('Timestamp', StringType(), True)])"
            ]
          },
          "metadata": {},
          "execution_count": 37
        }
      ]
    },
    {
      "cell_type": "code",
      "source": [
        "df=spark.createDataFrame(data,schema).withColumn(\"timestamp\",col(\"timestamp\").cast(TimestampType())).withColumn(\"log_mesage\",lower(col(\"log_message\")))"
      ],
      "metadata": {
        "id": "jolgJ8BD2AHq"
      },
      "execution_count": 38,
      "outputs": []
    },
    {
      "cell_type": "code",
      "source": [
        "keywords=[\"timeout\",\"failed\",\"exception\"]"
      ],
      "metadata": {
        "id": "gdl9Ot7_2mLb"
      },
      "execution_count": 39,
      "outputs": []
    },
    {
      "cell_type": "markdown",
      "source": [
        "Create array of matched keywords"
      ],
      "metadata": {
        "id": "XZbpoHWA3Vm6"
      }
    },
    {
      "cell_type": "code",
      "source": [
        "matches=[\n",
        "    when(col(\"log_message\").contains(k),lit(k)) for k in keywords\n",
        "    ]\n",
        "df=df.withColumn(\"log_message\",lower(col(\"log_message\")))"
      ],
      "metadata": {
        "id": "OGeyt5-u3Ues"
      },
      "execution_count": 49,
      "outputs": []
    },
    {
      "cell_type": "code",
      "source": [
        "df.printSchema()"
      ],
      "metadata": {
        "colab": {
          "base_uri": "https://localhost:8080/"
        },
        "id": "_zG9krK_59_p",
        "outputId": "9334640d-6c6d-46b4-f982-ae2a85d679bf"
      },
      "execution_count": 50,
      "outputs": [
        {
          "output_type": "stream",
          "name": "stdout",
          "text": [
            "root\n",
            " |-- app_name: string (nullable = true)\n",
            " |-- level: string (nullable = true)\n",
            " |-- log_message: string (nullable = true)\n",
            " |-- timestamp: timestamp (nullable = true)\n",
            " |-- log_mesage: string (nullable = true)\n",
            " |-- keyword: string (nullable = false)\n",
            "\n"
          ]
        }
      ]
    },
    {
      "cell_type": "markdown",
      "source": [
        "Split,Explode and filter non-null"
      ],
      "metadata": {
        "id": "QD6ARwBR4B--"
      }
    },
    {
      "cell_type": "code",
      "source": [
        "df = df.withColumn(\"keyword\", split(col(\"log_message\"), \" \")) \\\n",
        "       .withColumn(\"keyword\", explode(col(\"keyword\"))) \\\n",
        "       .filter(col(\"keyword\").isNotNull())"
      ],
      "metadata": {
        "id": "Z_O0tzE74Bk7"
      },
      "execution_count": 43,
      "outputs": []
    },
    {
      "cell_type": "markdown",
      "source": [
        "Group and Count"
      ],
      "metadata": {
        "id": "n1gFTyDi5bHW"
      }
    },
    {
      "cell_type": "code",
      "source": [
        "result=df.groupBy(\"app_name\",\"log_message\",\"keyword\").count()"
      ],
      "metadata": {
        "id": "1Iqnwxq544iu"
      },
      "execution_count": 46,
      "outputs": []
    },
    {
      "cell_type": "code",
      "source": [
        "result=df.groupBy(\"app_name\",\"log_message\",\"keyword\",\"Timestamp\").count()\n",
        "result"
      ],
      "metadata": {
        "colab": {
          "base_uri": "https://localhost:8080/"
        },
        "id": "xHuyFOQEDPC5",
        "outputId": "736d9fa0-152f-4f43-ce5d-92b63679a802"
      },
      "execution_count": 56,
      "outputs": [
        {
          "output_type": "execute_result",
          "data": {
            "text/plain": [
              "DataFrame[app_name: string, log_message: string, keyword: string, Timestamp: timestamp, count: bigint]"
            ]
          },
          "metadata": {},
          "execution_count": 56
        }
      ]
    },
    {
      "cell_type": "code",
      "source": [
        "\n",
        "result.show()"
      ],
      "metadata": {
        "colab": {
          "base_uri": "https://localhost:8080/"
        },
        "id": "sTXxuvat5mxq",
        "outputId": "4da6a1a3-c0d0-45a5-dc8b-80ecc2460869"
      },
      "execution_count": 57,
      "outputs": [
        {
          "output_type": "stream",
          "name": "stdout",
          "text": [
            "+--------+--------------------+-------+-------------------+-----+\n",
            "|app_name|         log_message|keyword|          Timestamp|count|\n",
            "+--------+--------------------+-------+-------------------+-----+\n",
            "| payment|payment timeout o...|      e|2024-03-28 10:01:00|    9|\n",
            "| payment|payment timeout o...|      i|2024-03-28 10:01:00|    3|\n",
            "|    auth|login failed due ...|      d|2024-03-28 10:00:00|   10|\n",
            "| payment|payment timeout o...|      m|2024-03-28 10:01:00|    6|\n",
            "|    auth|login failed due ...|      e|2024-03-28 10:00:00|   15|\n",
            "|    auth|login failed due ...|      f|2024-03-28 10:00:00|    5|\n",
            "| payment|payment timeout o...|      p|2024-03-28 10:01:00|    3|\n",
            "|    auth|login failed due ...|      l|2024-03-28 10:00:00|   10|\n",
            "|    auth|login failed due ...|      o|2024-03-28 10:00:00|   15|\n",
            "|    auth|login failed due ...|      a|2024-03-28 10:00:00|    5|\n",
            "| payment|payment timeout o...|      c|2024-03-28 10:01:00|    6|\n",
            "|    auth|login failed due ...|       |2024-03-28 10:00:00|   20|\n",
            "|    auth|login failed due ...|      t|2024-03-28 10:00:00|    5|\n",
            "| payment|payment timeout o...|      t|2024-03-28 10:01:00|    9|\n",
            "|    auth|login failed due ...|      n|2024-03-28 10:00:00|    5|\n",
            "| payment|payment timeout o...|      o|2024-03-28 10:01:00|    6|\n",
            "|    auth|login failed due ...|      u|2024-03-28 10:00:00|    5|\n",
            "| payment|payment timeout o...|       |2024-03-28 10:01:00|    6|\n",
            "| payment|payment timeout o...|      y|2024-03-28 10:01:00|    3|\n",
            "| payment|payment timeout o...|      d|2024-03-28 10:01:00|    3|\n",
            "+--------+--------------------+-------+-------------------+-----+\n",
            "only showing top 20 rows\n",
            "\n"
          ]
        }
      ]
    },
    {
      "cell_type": "code",
      "source": [],
      "metadata": {
        "id": "m9unQCFN7m7J"
      },
      "execution_count": null,
      "outputs": []
    }
  ]
}