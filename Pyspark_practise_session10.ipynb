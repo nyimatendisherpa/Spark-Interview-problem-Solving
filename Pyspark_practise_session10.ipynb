{
  "nbformat": 4,
  "nbformat_minor": 0,
  "metadata": {
    "colab": {
      "provenance": []
    },
    "kernelspec": {
      "name": "python3",
      "display_name": "Python 3"
    },
    "language_info": {
      "name": "python"
    }
  },
  "cells": [
    {
      "cell_type": "markdown",
      "source": [
        "Window Function and ranking logics..\n",
        "we have a pyaspark which containing customer purchase transaction each transaction included customer_id,order_id,order_date,order_amount so our task is to find their top 2 highest value order based on order_amount\n",
        "\n",
        "\n"
      ],
      "metadata": {
        "id": "uCKVNdF3MKhR"
      }
    },
    {
      "cell_type": "code",
      "source": [
        "from pyspark.sql import SparkSession\n",
        "from pyspark.sql import Window\n",
        "from pyspark.sql.functions import col,row_number"
      ],
      "metadata": {
        "id": "-9HUXAEWzjAc"
      },
      "execution_count": 7,
      "outputs": []
    },
    {
      "cell_type": "code",
      "source": [
        "spark=SparkSession.builder.appName(\"TopNOrders\").getOrCreate()"
      ],
      "metadata": {
        "id": "1eO-V-Oa3O_g"
      },
      "execution_count": 8,
      "outputs": []
    },
    {
      "cell_type": "code",
      "source": [
        "data=[(\"ABC1\", \"O1001\", \"2024-03-01\", 500),\n",
        " (\"ABC1\", \"O1002\", \"2024-03-05\", 1200),\n",
        " (\"ABC1\", \"O1003\", \"2024-03-10\", 750),\n",
        " (\"ABC\", \"O2001\", \"2024-03-02\", 900),\n",
        " (\"ABC2\", \"O2002\", \"2024-03-06\", 950),\n",
        " (\"ABC2\", \"O2003\", \"2024-03-09\", 100)]"
      ],
      "metadata": {
        "id": "BwaLpzXz3a2y"
      },
      "execution_count": 9,
      "outputs": []
    },
    {
      "cell_type": "code",
      "source": [
        "df = spark.createDataFrame(data, [\"customer_id\", \"order_id\", \"order_date\", \"order_amount\"])"
      ],
      "metadata": {
        "id": "ns4b-azS4zlR"
      },
      "execution_count": 10,
      "outputs": []
    },
    {
      "cell_type": "code",
      "source": [
        "window_spec = Window.partitionBy(\"customer_id\").orderBy(col(\"order_amount\").desc())"
      ],
      "metadata": {
        "id": "wmirWAF65I22"
      },
      "execution_count": 11,
      "outputs": []
    },
    {
      "cell_type": "code",
      "source": [
        "df_with_rank = df.withColumn(\"rank\", row_number().over(window_spec))\n"
      ],
      "metadata": {
        "id": "o44kbIkX5wUM"
      },
      "execution_count": 12,
      "outputs": []
    },
    {
      "cell_type": "code",
      "source": [
        "top2_df = df_with_rank.filter(col(\"rank\") <= 2).select(\"customer_id\", \"order_id\", \"order_amount\")\n"
      ],
      "metadata": {
        "id": "8m22qt5051mU"
      },
      "execution_count": 13,
      "outputs": []
    },
    {
      "cell_type": "code",
      "source": [
        "top2_df.show()"
      ],
      "metadata": {
        "colab": {
          "base_uri": "https://localhost:8080/"
        },
        "id": "q4S1CCDN53k_",
        "outputId": "c974d74e-fd0d-44e1-ab01-b77ded934013"
      },
      "execution_count": 14,
      "outputs": [
        {
          "output_type": "stream",
          "name": "stdout",
          "text": [
            "+-----------+--------+------------+\n",
            "|customer_id|order_id|order_amount|\n",
            "+-----------+--------+------------+\n",
            "|        ABC|   O2001|         900|\n",
            "|       ABC1|   O1002|        1200|\n",
            "|       ABC1|   O1003|         750|\n",
            "|       ABC2|   O2002|         950|\n",
            "|       ABC2|   O2003|         100|\n",
            "+-----------+--------+------------+\n",
            "\n"
          ]
        }
      ]
    },
    {
      "cell_type": "code",
      "source": [],
      "metadata": {
        "id": "fnEkriEE57En"
      },
      "execution_count": null,
      "outputs": []
    }
  ]
}