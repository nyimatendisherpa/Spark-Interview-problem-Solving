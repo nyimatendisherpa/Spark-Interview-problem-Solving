{
  "nbformat": 4,
  "nbformat_minor": 0,
  "metadata": {
    "colab": {
      "provenance": []
    },
    "kernelspec": {
      "name": "python3",
      "display_name": "Python 3"
    },
    "language_info": {
      "name": "python"
    }
  },
  "cells": [
    {
      "cell_type": "markdown",
      "source": [
        "Here, we are woring with 2 large DataFrame transactions which contains billions of records including,user_id,txn_amount,txn_date. where, user contains user profile info with user_id as a key. yo we noticed that joins are taking forever or failing due to data skew  because a user_id areextremely frequent.So, our task is join both DataFrame on user_id and implement skew join optimization to handle this issue."
      ],
      "metadata": {
        "id": "vzntcbzcgZFo"
      }
    },
    {
      "cell_type": "code",
      "source": [
        "from pyspark.sql import SparkSession\n",
        "from pyspark.sql.functions import col,rand,expr"
      ],
      "metadata": {
        "id": "-ZauQgzchUsY"
      },
      "execution_count": 32,
      "outputs": []
    },
    {
      "cell_type": "code",
      "source": [
        "spark=SparkSession.builder.appName(\"skewedjoinhandling\").getOrCreate()"
      ],
      "metadata": {
        "id": "0cJg_VWYkK8n"
      },
      "execution_count": 33,
      "outputs": []
    },
    {
      "cell_type": "markdown",
      "source": [
        "Simulate skewed user data"
      ],
      "metadata": {
        "id": "IdYL_iz0kYvG"
      }
    },
    {
      "cell_type": "code",
      "source": [
        "# transactions=spark.read.csv(\"transections.csv\",header=True,inferSchema=True)\n",
        "# users=spark.read.csv(\"User_Data.csv\",header=True,inferSchema=True)"
      ],
      "metadata": {
        "id": "kW56cnHekXHY"
      },
      "execution_count": 23,
      "outputs": []
    },
    {
      "cell_type": "code",
      "source": [
        "transactions=spark.read.parquet(\"(\"gs://your-bucket/transactions/\")\")\n",
        "users=spark.read.parquet(\"gs://your-bucket/users/\")"
      ],
      "metadata": {
        "id": "md5nd5VVm9aF"
      },
      "execution_count": null,
      "outputs": []
    },
    {
      "cell_type": "markdown",
      "source": [
        "To check columns"
      ],
      "metadata": {
        "id": "0P4AjLM2nS5R"
      }
    },
    {
      "cell_type": "code",
      "source": [
        "transactions.columns"
      ],
      "metadata": {
        "id": "73T4bJ3OkXZO"
      },
      "execution_count": 34,
      "outputs": []
    },
    {
      "cell_type": "markdown",
      "source": [
        "Add a salt key to transactions(replicate skewed keys)"
      ],
      "metadata": {
        "id": "WRxzy-AElnRb"
      }
    },
    {
      "cell_type": "code",
      "source": [
        "transactions=transactions.withColumn(\"salt\",(rand()*10).cast(\"int\"))"
      ],
      "metadata": {
        "id": "evIUQ7tpllbu"
      },
      "execution_count": 26,
      "outputs": []
    },
    {
      "cell_type": "code",
      "source": [],
      "metadata": {
        "id": "qyXR_Wh-lcns"
      },
      "execution_count": 26,
      "outputs": []
    },
    {
      "cell_type": "markdown",
      "source": [
        "Replicate users data fro skewed users_ids with multiple salt values(0-9)\n"
      ],
      "metadata": {
        "id": "fqHW2NUil-4F"
      }
    },
    {
      "cell_type": "code",
      "source": [
        "user_salts=users.crossJoin(spark.range(10).withColumnRenamed(\"id\",\"salt\"))"
      ],
      "metadata": {
        "id": "G77Kr5QCl827"
      },
      "execution_count": 27,
      "outputs": []
    },
    {
      "cell_type": "markdown",
      "source": [
        "join both user_id and salt"
      ],
      "metadata": {
        "id": "TXSUkegOmbl2"
      }
    },
    {
      "cell_type": "code",
      "source": [
        "result=transactions.join(user_salts,on=[\"trans_id\",\"salt\"],how=\"inner\")\n"
      ],
      "metadata": {
        "id": "jEkc5sbbmYAW"
      },
      "execution_count": 35,
      "outputs": []
    },
    {
      "cell_type": "code",
      "source": [
        "result.select(\"user_id\",\"txn_amount\",\"txn_date\").show()"
      ],
      "metadata": {
        "id": "6Tazr1Ifmq8I"
      },
      "execution_count": null,
      "outputs": []
    },
    {
      "cell_type": "code",
      "source": [],
      "metadata": {
        "id": "jYyqkKenm4yT"
      },
      "execution_count": null,
      "outputs": []
    }
  ]
}