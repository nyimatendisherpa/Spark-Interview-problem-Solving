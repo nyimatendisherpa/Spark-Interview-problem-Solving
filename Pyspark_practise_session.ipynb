{
  "nbformat": 4,
  "nbformat_minor": 0,
  "metadata": {
    "colab": {
      "provenance": []
    },
    "kernelspec": {
      "name": "python3",
      "display_name": "Python 3"
    },
    "language_info": {
      "name": "python"
    }
  },
  "cells": [
    {
      "cell_type": "markdown",
      "source": [
        "Spark querry to findout 3 top customers who spent most money."
      ],
      "metadata": {
        "id": "uCKVNdF3MKhR"
      }
    },
    {
      "cell_type": "code",
      "execution_count": 1,
      "metadata": {
        "id": "2e0LJ0fLFuNK"
      },
      "outputs": [],
      "source": [
        "from pyspark.sql import SparkSession\n",
        "from pyspark.sql.functions import sum\n"
      ]
    },
    {
      "cell_type": "code",
      "source": [
        "spark=SparkSession.builder.appName(\"Top customers\").getOrCreate()\n"
      ],
      "metadata": {
        "id": "wWcheDIpJf6K"
      },
      "execution_count": 2,
      "outputs": []
    },
    {
      "cell_type": "code",
      "source": [
        "data=[(\"abc1\",200),(\"abc2\",300),(\"abc3\",400),(\"abc4\",500),(\"abc6\",600)]\n",
        "columns=['customer_id','transaction_amount']\n",
        "\n",
        "df=spark.createDataFrame(data,columns)\n",
        "\n",
        "result=(df.groupBy(\"customer_id\").agg(sum('transaction_amount').alias('total_spent')).orderBy('total_spent',ascending=False).limit(3))\n"
      ],
      "metadata": {
        "id": "ydiNPdVjJvW5"
      },
      "execution_count": 11,
      "outputs": []
    },
    {
      "cell_type": "code",
      "source": [
        "result.show()"
      ],
      "metadata": {
        "colab": {
          "base_uri": "https://localhost:8080/"
        },
        "id": "AaL1DEoWLPGI",
        "outputId": "a73a0b59-85cb-4d56-aeed-b706d385ac7f"
      },
      "execution_count": 10,
      "outputs": [
        {
          "output_type": "stream",
          "name": "stdout",
          "text": [
            "+-----------+-----------+\n",
            "|customer_id|total_spent|\n",
            "+-----------+-----------+\n",
            "|       abc6|        600|\n",
            "+-----------+-----------+\n",
            "\n"
          ]
        }
      ]
    },
    {
      "cell_type": "code",
      "source": [],
      "metadata": {
        "id": "lyMuDWDqLQys"
      },
      "execution_count": null,
      "outputs": []
    }
  ]
}