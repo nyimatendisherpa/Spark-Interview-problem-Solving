{
  "nbformat": 4,
  "nbformat_minor": 0,
  "metadata": {
    "colab": {
      "provenance": []
    },
    "kernelspec": {
      "name": "python3",
      "display_name": "Python 3"
    },
    "language_info": {
      "name": "python"
    }
  },
  "cells": [
    {
      "cell_type": "markdown",
      "source": [
        "Here we are working with large datasets in PySpark, and our job keeps failing due to memory errors(OutOfMemoryError) during wide transformation like groupBy and joins. create a solution to optimize the PySpark job to reduce memory pressure and prevent job failure,while still performing a groupBy aggregation on a large datasets.\n",
        "Sales_data with following columns like store_id,product_id,sales,amount,sale_date. we have to calculate the total sales per store per day.But the data is huge and we want to ensure it runs efficiently in production without memory isssues..."
      ],
      "metadata": {
        "id": "t6nl-nH2Oc_E"
      }
    },
    {
      "cell_type": "code",
      "source": [
        "from pyspark.sql import SparkSession\n",
        "from pyspark.sql.functions import sum\n",
        "from datetime import date"
      ],
      "metadata": {
        "id": "iLXjGrARk9ZF"
      },
      "execution_count": 28,
      "outputs": []
    },
    {
      "cell_type": "markdown",
      "source": [
        "Here we are creating schema and table with various columns"
      ],
      "metadata": {
        "id": "wnPuGgjXSbMj"
      }
    },
    {
      "cell_type": "code",
      "source": [
        "from pyspark.sql.types import StructType, StructField, IntegerType, DoubleType, DateType\n",
        "data = [\n",
        "    (1, 101, 150.75, date(2024, 11, 1)),\n",
        "    (1, 102, 200.00, date(2024, 11, 2)),\n",
        "    (2, 103, 350.50, date(2024, 11, 2)),\n",
        "    (2, 101, 125.00, date(2024, 11, 3)),\n",
        "    (3, 104, 500.00, date(2024, 11, 4))\n",
        "]\n",
        "\n",
        "schema = StructType([\n",
        "    StructField(\"store_id\", IntegerType(), True),\n",
        "    StructField(\"product_id\", IntegerType(), True),\n",
        "    StructField(\"sales_amount\", DoubleType(), True),\n",
        "    StructField(\"sale_date\", DateType(), True)\n",
        "])\n"
      ],
      "metadata": {
        "id": "y5vHmePoP0FC"
      },
      "execution_count": 29,
      "outputs": []
    },
    {
      "cell_type": "code",
      "source": [
        "spark=SparkSesion.builder.appName(\"memoryError\").config(\"spark.sql.shuffle.partitions\",\"200\").config(\"spark.sql.autoBroadcastJoinThreshold\",-1).getOrCreate()\n"
      ],
      "metadata": {
        "id": "8EM4OUQ5ltQ5"
      },
      "execution_count": 30,
      "outputs": []
    },
    {
      "cell_type": "code",
      "source": [
        "columns=[\"store_id\", \"product_id\", \"sales_amount\", \"sale_date\"]"
      ],
      "metadata": {
        "id": "JpE47ZKHP7Mv"
      },
      "execution_count": 31,
      "outputs": []
    },
    {
      "cell_type": "code",
      "source": [
        "sales_df=spark.createDataFrame(data,columns)"
      ],
      "metadata": {
        "id": "2YTEs-T5QIN0"
      },
      "execution_count": 38,
      "outputs": []
    },
    {
      "cell_type": "code",
      "source": [
        "sales_df.select('store_id')"
      ],
      "metadata": {
        "colab": {
          "base_uri": "https://localhost:8080/"
        },
        "id": "9KDmVqRCRZbt",
        "outputId": "46e29a54-cb33-4245-c6be-2532a8cf02b6"
      },
      "execution_count": 39,
      "outputs": [
        {
          "output_type": "execute_result",
          "data": {
            "text/plain": [
              "DataFrame[store_id: bigint]"
            ]
          },
          "metadata": {},
          "execution_count": 39
        }
      ]
    },
    {
      "cell_type": "markdown",
      "source": [
        "Load data(assume from parquet or partitioned source"
      ],
      "metadata": {
        "id": "Fxm-ISDTmfdr"
      }
    },
    {
      "cell_type": "code",
      "source": [
        "# sales_df=spark.read.csv(\"store_id\")\n",
        "# sales_df\n"
      ],
      "metadata": {
        "id": "Tw_NG-VxmW0i"
      },
      "execution_count": 40,
      "outputs": []
    },
    {
      "cell_type": "markdown",
      "source": [
        "Repartition before wide transformation to optimize memory usage\n"
      ],
      "metadata": {
        "id": "oO7tQAZHE2-z"
      }
    },
    {
      "cell_type": "code",
      "source": [
        "sales_df=sales_df.repartition(\"store_id\")"
      ],
      "metadata": {
        "id": "GDvULsK0E7CN"
      },
      "execution_count": 41,
      "outputs": []
    },
    {
      "cell_type": "markdown",
      "source": [
        "Perform Aggregation"
      ],
      "metadata": {
        "id": "nehBtxA5Ou_c"
      }
    },
    {
      "cell_type": "code",
      "source": [
        "result_df=sales_df.groupBy(\"store_id\",\"sale_date\").agg(sum(\"sales_amount\").alias(\"total_sales\"))"
      ],
      "metadata": {
        "id": "FkJsm7Mfm6mu"
      },
      "execution_count": 42,
      "outputs": []
    },
    {
      "cell_type": "code",
      "source": [
        "result_df.show()"
      ],
      "metadata": {
        "colab": {
          "base_uri": "https://localhost:8080/"
        },
        "id": "iHhsDBVDOrFZ",
        "outputId": "07200f08-edf7-4e61-fc9c-e4a867fa2448"
      },
      "execution_count": 43,
      "outputs": [
        {
          "output_type": "stream",
          "name": "stdout",
          "text": [
            "+--------+----------+-----------+\n",
            "|store_id| sale_date|total_sales|\n",
            "+--------+----------+-----------+\n",
            "|       1|2024-11-01|     150.75|\n",
            "|       1|2024-11-02|      200.0|\n",
            "|       3|2024-11-04|      500.0|\n",
            "|       2|2024-11-02|      350.5|\n",
            "|       2|2024-11-03|      125.0|\n",
            "+--------+----------+-----------+\n",
            "\n"
          ]
        }
      ]
    },
    {
      "cell_type": "code",
      "source": [],
      "metadata": {
        "id": "wIXIIhlgPLS4"
      },
      "execution_count": null,
      "outputs": []
    }
  ]
}