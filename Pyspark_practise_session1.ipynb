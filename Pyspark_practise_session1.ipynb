{
  "nbformat": 4,
  "nbformat_minor": 0,
  "metadata": {
    "colab": {
      "provenance": []
    },
    "kernelspec": {
      "name": "python3",
      "display_name": "Python 3"
    },
    "language_info": {
      "name": "python"
    }
  },
  "cells": [
    {
      "cell_type": "markdown",
      "source": [
        "PySpark DataFrame containing user login details .write PySpark querry to find the first and last login timestamps for each other.\n"
      ],
      "metadata": {
        "id": "uCKVNdF3MKhR"
      }
    },
    {
      "cell_type": "code",
      "execution_count": 14,
      "metadata": {
        "id": "2e0LJ0fLFuNK"
      },
      "outputs": [],
      "source": [
        "from pyspark.sql import SparkSession\n",
        "from pyspark.sql.functions import min, max"
      ]
    },
    {
      "cell_type": "code",
      "source": [
        "spark=SparkSession.builder.appName(\"LoginTime\").getOrCreate()\n"
      ],
      "metadata": {
        "id": "wWcheDIpJf6K"
      },
      "execution_count": 15,
      "outputs": []
    },
    {
      "cell_type": "code",
      "source": [
        "data=[(\"abc\", \"2024-03-10 08:00:00\"), (\"abc1\", \"2024-03-10 09:30:00\"),\n",
        " (\"abc2\", \"2024-03-10 12:45:00\"), (\"abc3\", \"2024-03-10 14:00:00\"),\n",
        " (\"abc4\", \"2024-03-10 11:15:00\"), (\"abc5\", \"2024-03-10 18:30:00\"),\n",
        " (\"abc6\", \"2024-03-10 22:00:00\")]"
      ],
      "metadata": {
        "id": "ydiNPdVjJvW5"
      },
      "execution_count": 16,
      "outputs": []
    },
    {
      "cell_type": "code",
      "source": [
        "columns=[\"user_id\",\"login_time\"]\n"
      ],
      "metadata": {
        "id": "AaL1DEoWLPGI"
      },
      "execution_count": 17,
      "outputs": []
    },
    {
      "cell_type": "code",
      "source": [
        "df=spark.createDataFrame(data,columns)\n"
      ],
      "metadata": {
        "colab": {
          "base_uri": "https://localhost:8080/"
        },
        "id": "lyMuDWDqLQys",
        "outputId": "3834d55c-3d7b-4517-e843-b1b77dc39dbb"
      },
      "execution_count": 18,
      "outputs": [
        {
          "output_type": "execute_result",
          "data": {
            "text/plain": [
              "DataFrame[user_id: string, login_time: string]"
            ]
          },
          "metadata": {},
          "execution_count": 18
        }
      ]
    },
    {
      "cell_type": "code",
      "source": [
        "result=(df.groupBy('user_id').agg(min('login_time').alias('first_login'),max(\"login_time\").alias(\"last_login\")))"
      ],
      "metadata": {
        "id": "A9UI31eTPIhC"
      },
      "execution_count": 19,
      "outputs": []
    },
    {
      "cell_type": "code",
      "source": [
        "result.show()"
      ],
      "metadata": {
        "colab": {
          "base_uri": "https://localhost:8080/"
        },
        "id": "aMsYoE8zPz-c",
        "outputId": "d3844d6e-bc05-4077-ebcd-cd9f70e52675"
      },
      "execution_count": 20,
      "outputs": [
        {
          "output_type": "stream",
          "name": "stdout",
          "text": [
            "+-------+-------------------+-------------------+\n",
            "|user_id|        first_login|         last_login|\n",
            "+-------+-------------------+-------------------+\n",
            "|    abc|2024-03-10 08:00:00|2024-03-10 08:00:00|\n",
            "|   abc1|2024-03-10 09:30:00|2024-03-10 09:30:00|\n",
            "|   abc2|2024-03-10 12:45:00|2024-03-10 12:45:00|\n",
            "|   abc3|2024-03-10 14:00:00|2024-03-10 14:00:00|\n",
            "|   abc4|2024-03-10 11:15:00|2024-03-10 11:15:00|\n",
            "|   abc5|2024-03-10 18:30:00|2024-03-10 18:30:00|\n",
            "|   abc6|2024-03-10 22:00:00|2024-03-10 22:00:00|\n",
            "+-------+-------------------+-------------------+\n",
            "\n"
          ]
        }
      ]
    },
    {
      "cell_type": "code",
      "source": [],
      "metadata": {
        "id": "1HeomvJjP1bK"
      },
      "execution_count": null,
      "outputs": []
    }
  ]
}